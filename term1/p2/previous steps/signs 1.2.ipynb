{
 "cells": [
  {
   "cell_type": "markdown",
   "metadata": {},
   "source": [
    "# Traffic signs Lab\n",
    "\n",
    "1) Data histogram / labels / quantity for each category  \n",
    "Tested stronger dropout (0.5) - no significant change, maybe a little worse results"
   ]
  },
  {
   "cell_type": "markdown",
   "metadata": {},
   "source": [
    "## Load Data\n",
    "\n",
    "Load the MNIST data, which comes pre-loaded with TensorFlow.\n",
    "\n",
    "You do not need to modify this section."
   ]
  },
  {
   "cell_type": "code",
   "execution_count": 105,
   "metadata": {
    "collapsed": false
   },
   "outputs": [
    {
     "name": "stderr",
     "output_type": "stream",
     "text": [
      "100%|██████████| 43/43 [00:00<00:00, 2103.66it/s]"
     ]
    },
    {
     "name": "stdout",
     "output_type": "stream",
     "text": [
      "\n",
      "Image Shape: (32, 32, 3)\n",
      "\n",
      "Training Set:   34799 samples\n",
      "Validation Set: 4410 samples\n",
      "Test Set:       12630 samples \n",
      "\n",
      "       180 Speed limit (20km/h)\n",
      "      1980 Speed limit (30km/h)\n",
      "      2010 Speed limit (50km/h)\n",
      "      1260 Speed limit (60km/h)\n",
      "      1770 Speed limit (70km/h)\n",
      "      1650 Speed limit (80km/h)\n",
      "       360 End of speed limit (80km/h)\n",
      "      1290 Speed limit (100km/h)\n",
      "      1260 Speed limit (120km/h)\n",
      "      1320 No passing\n",
      "      1800 No passing for vehicles over 3.5 metric tons\n",
      "      1170 Right-of-way at the next intersection\n",
      "      1890 Priority road\n",
      "      1920 Yield\n",
      "       690 Stop\n",
      "       540 No vehicles\n",
      "       360 Vehicles over 3.5 metric tons prohibited\n",
      "       990 No entry\n",
      "      1080 General caution\n",
      "       180 Dangerous curve to the left\n",
      "       300 Dangerous curve to the right\n",
      "       270 Double curve\n",
      "       330 Bumpy road\n",
      "       450 Slippery road\n",
      "       240 Road narrows on the right\n",
      "      1350 Road work\n",
      "       540 Traffic signals\n",
      "       210 Pedestrians\n",
      "       480 Children crossing\n",
      "       240 Bicycles crossing\n",
      "       390 Beware of ice/snow\n",
      "       690 Wild animals crossing\n",
      "       210 End of all speed and passing limits\n",
      "       599 Turn right ahead\n",
      "       360 Turn left ahead\n",
      "      1080 Ahead only\n",
      "       330 Go straight or right\n",
      "       180 Go straight or left\n",
      "      1860 Keep right\n",
      "       270 Keep left\n",
      "       300 Roundabout mandatory\n",
      "       210 End of no passing\n",
      "       210 End of no passing by vehicles over 3.5 metric tons\n",
      "\n",
      "\n",
      "Training set categories 43\n"
     ]
    },
    {
     "name": "stderr",
     "output_type": "stream",
     "text": [
      "\n"
     ]
    },
    {
     "name": "stdout",
     "output_type": "stream",
     "text": [
      "max / min of train images 0 255\n"
     ]
    },
    {
     "data": {
      "image/png": "[encoded data removed]",
      "text/plain": [
       "<matplotlib.figure.Figure at 0x7effb54dceb8>"
      ]
     },
     "metadata": {},
     "output_type": "display_data"
    }
   ],
   "source": [
    "# Load pickled data\n",
    "import pickle\n",
    "import numpy as np\n",
    "import matplotlib.pyplot as plt\n",
    "%matplotlib inline\n",
    "import pandas as pd\n",
    "from tqdm import tqdm\n",
    "\n",
    "# TODO: Fill this in based on where you saved the training and testing data\n",
    "\n",
    "training_file = 'data/train.p'\n",
    "validation_file='data/valid.p'\n",
    "testing_file = 'data/test.p'\n",
    "\n",
    "with open(training_file, mode='rb') as f:\n",
    "    train = pickle.load(f)\n",
    "with open(validation_file, mode='rb') as f:\n",
    "    valid = pickle.load(f)\n",
    "with open(testing_file, mode='rb') as f:\n",
    "    test = pickle.load(f)\n",
    "    \n",
    "X_train, y_train = train['features'], train['labels']\n",
    "X_valid, y_valid = valid['features'], valid['labels']\n",
    "X_test, y_test = test['features'], test['labels']\n",
    "\n",
    "print()\n",
    "print(\"Image Shape: {}\".format(X_train[0].shape))\n",
    "print()\n",
    "print(\"Training Set:   {} samples\".format(len(X_train)))\n",
    "print(\"Validation Set: {} samples\".format(len(X_valid)))\n",
    "print(\"Test Set:       {} samples \\n\".format(len(X_test)))\n",
    "\n",
    "#checking numer of categories\n",
    "\n",
    "categories, counts = np.unique(y_train, return_counts=True, axis=0)\n",
    "x = pd.read_csv('signnames.csv')\n",
    "\n",
    "for i in tqdm(range(len(counts))):\n",
    "    print ('%10s' % counts[i], x.iloc[i][1])\n",
    "\n",
    "print ('\\n')\n",
    "plt.figure(figsize=(20,20))\n",
    "plt.bar(categories,counts)\n",
    "\n",
    "\n",
    "print(\"Training set categories\", len(categories))\n",
    "\n",
    "#check value image range\n",
    "print(\"max / min of train images\", np.min(X_train), np.max(X_train))\n"
   ]
  },
  {
   "cell_type": "markdown",
   "metadata": {},
   "source": [
    "## Visualize Data\n",
    "\n",
    "View a sample from the dataset.\n",
    "\n",
    "You do not need to modify this section."
   ]
  },
  {
   "cell_type": "code",
   "execution_count": null,
   "metadata": {
    "collapsed": false
   },
   "outputs": [],
   "source": [
    "import random\n",
    "\n",
    "\n",
    "index = random.randint(0, len(X_train))\n",
    "image = X_train[index].squeeze()\n",
    "\n",
    "plt.figure(figsize=(1,1))\n",
    "plt.imshow(image, cmap=\"gray\")\n",
    "print(y_train[index])"
   ]
  },
  {
   "cell_type": "markdown",
   "metadata": {},
   "source": [
    "## Preprocess Data\n",
    "\n",
    "Shuffle the training data.\n",
    "\n",
    "Basic normalization"
   ]
  },
  {
   "cell_type": "code",
   "execution_count": 95,
   "metadata": {
    "collapsed": false
   },
   "outputs": [],
   "source": [
    "from sklearn.utils import shuffle\n",
    "\n",
    "\n",
    "X_train, y_train = shuffle(X_train, y_train)\n"
   ]
  },
  {
   "cell_type": "markdown",
   "metadata": {},
   "source": [
    "## Setup TensorFlow\n",
    "The `EPOCH` and `BATCH_SIZE` values affect the training speed and model accuracy.\n",
    "\n",
    "You do not need to modify this section."
   ]
  },
  {
   "cell_type": "code",
   "execution_count": 96,
   "metadata": {
    "collapsed": true
   },
   "outputs": [],
   "source": [
    "import tensorflow as tf\n",
    "\n",
    "EPOCHS = 20\n",
    "BATCH_SIZE = 128"
   ]
  },
  {
   "cell_type": "code",
   "execution_count": 97,
   "metadata": {
    "collapsed": false
   },
   "outputs": [],
   "source": [
    "from tensorflow.contrib.layers import flatten\n",
    "\n",
    "def LeNet(x):    \n",
    "    # Arguments used for tf.truncated_normal, randomly defines variables for the weights and biases for each layer\n",
    "    mu = 0\n",
    "    sigma = 0.1\n",
    "    \n",
    "    # TODO: Layer 1: Convolutional. Input = 32x32x1. Output = 28x28x6.\n",
    "    filters = tf.Variable(tf.truncated_normal([5,5,3,32], mean=mu, stddev=sigma))\n",
    "    bias1 = tf.Variable(tf.zeros(32))\n",
    "    strides = [1,1,1,1]\n",
    "    padding = 'VALID'\n",
    "    \n",
    "    conv1 = tf.nn.conv2d(x,filters,strides,padding) + bias1\n",
    "   \n",
    "    # TODO: Activation.\n",
    "    act1 = tf.nn.relu(conv1)\n",
    "\n",
    "    # TODO: Pooling. Input = 28x28x6. Output = 14x14x6.\n",
    "    pool1 = tf.nn.max_pool(act1,ksize=[1,2,2,1],strides=[1,2,2,1], padding='VALID')\n",
    "\n",
    "    # TODO: Layer 2: Convolutional. Output = 10x10x16.\n",
    "    filters2 = tf.Variable(tf.truncated_normal([5,5,32,64], mean=mu, stddev=sigma))\n",
    "    strides2 = [1,1,1,1]\n",
    "    bias2 = tf.Variable(tf.zeros(64))\n",
    "    conv2 = tf.nn.conv2d(pool1,filters2,strides2,padding='VALID') + bias2\n",
    "    \n",
    "    # TODO: Activation\n",
    "    \n",
    "    act2 = tf.nn.relu(conv2)\n",
    "\n",
    "    # TODO: Pooling. Input = 10x10x16. Output = 5x5x16.\n",
    "    \n",
    "    pool2 = tf.nn.max_pool(act2,ksize=[1,2,2,1],strides=[1,2,2,1], padding='VALID')\n",
    "\n",
    "    # TODO: Flatten. Input = 5x5x16. Output = 400.\n",
    "    \n",
    "    flatten_layer = flatten(pool2)\n",
    "    \n",
    "    # TODO: Layer 3: Fully Connected. Input = 400. Output = 120.\n",
    "    \n",
    "    ff1_weights = tf.Variable(tf.truncated_normal([1600,120], mean=mu, stddev=sigma))\n",
    "    ff1_bias = tf.Variable(tf.zeros(120))\n",
    "    \n",
    "    ff1 = tf.matmul(flatten_layer,ff1_weights) + ff1_bias\n",
    "    \n",
    "    # TODO: Activation.\n",
    "    \n",
    "    act3 = tf.nn.relu(ff1)\n",
    "\n",
    "    # TODO: Layer 4: Fully Connected. Input = 120. Output = 84.\n",
    "    \n",
    "    ff2_weights = tf.Variable(tf.truncated_normal([120,84], mean=mu, stddev=sigma))\n",
    "    ff2_bias = tf.Variable(tf.zeros(84))\n",
    "    ff2 = tf.matmul (act3, ff2_weights) + ff2_bias\n",
    "    # TODO: Activation.\n",
    "    \n",
    "    act4 = tf.nn.relu(ff2)\n",
    "\n",
    "    \n",
    "    dropout = tf.layers.dropout(act4, rate=0.5)\n",
    "    # TODO: Layer 5: Fully Connected. Input = 84. Output = 10.\n",
    "    \n",
    "    log_weights = tf.Variable(tf.truncated_normal([84,43], mean=mu, stddev=sigma))\n",
    "    log_bias = tf.Variable(tf.zeros(43))\n",
    "    logits = tf.matmul(dropout,log_weights) + log_bias\n",
    "    \n",
    "    return logits"
   ]
  },
  {
   "cell_type": "markdown",
   "metadata": {},
   "source": [
    "## Features and Labels\n",
    "Train LeNet to classify [MNIST](http://yann.lecun.com/exdb/mnist/) data.\n",
    "\n",
    "`x` is a placeholder for a batch of input images.\n",
    "`y` is a placeholder for a batch of output labels.\n",
    "\n",
    "You do not need to modify this section."
   ]
  },
  {
   "cell_type": "code",
   "execution_count": 98,
   "metadata": {
    "collapsed": false
   },
   "outputs": [],
   "source": [
    "x = tf.placeholder(tf.float32, (None, 32, 32, 3))\n",
    "y = tf.placeholder(tf.int32, (None))\n",
    "one_hot_y = tf.one_hot(y, 43)"
   ]
  },
  {
   "cell_type": "markdown",
   "metadata": {},
   "source": [
    "## Training Pipeline\n",
    "Create a training pipeline that uses the model to classify MNIST data.\n",
    "\n",
    "You do not need to modify this section."
   ]
  },
  {
   "cell_type": "code",
   "execution_count": 99,
   "metadata": {
    "collapsed": false
   },
   "outputs": [],
   "source": [
    "rate = 0.001\n",
    "\n",
    "logits = LeNet(x)\n",
    "cross_entropy = tf.nn.softmax_cross_entropy_with_logits(labels=one_hot_y, logits=logits)\n",
    "loss_operation = tf.reduce_mean(cross_entropy)\n",
    "optimizer = tf.train.AdamOptimizer(learning_rate = rate)\n",
    "training_operation = optimizer.minimize(loss_operation)"
   ]
  },
  {
   "cell_type": "markdown",
   "metadata": {},
   "source": [
    "## Model Evaluation\n",
    "Evaluate how well the loss and accuracy of the model for a given dataset.\n",
    "\n",
    "You do not need to modify this section."
   ]
  },
  {
   "cell_type": "code",
   "execution_count": 100,
   "metadata": {
    "collapsed": true
   },
   "outputs": [],
   "source": [
    "correct_prediction = tf.equal(tf.argmax(logits, 1), tf.argmax(one_hot_y, 1))\n",
    "accuracy_operation = tf.reduce_mean(tf.cast(correct_prediction, tf.float32))\n",
    "saver = tf.train.Saver()\n",
    "\n",
    "def evaluate(X_data, y_data):\n",
    "    num_examples = len(X_data)\n",
    "    total_accuracy = 0\n",
    "    sess = tf.get_default_session()\n",
    "    for offset in range(0, num_examples, BATCH_SIZE):\n",
    "        batch_x, batch_y = X_data[offset:offset+BATCH_SIZE], y_data[offset:offset+BATCH_SIZE]\n",
    "        accuracy = sess.run(accuracy_operation, feed_dict={x: batch_x, y: batch_y})\n",
    "        total_accuracy += (accuracy * len(batch_x))\n",
    "    return total_accuracy / num_examples"
   ]
  },
  {
   "cell_type": "markdown",
   "metadata": {},
   "source": [
    "## Train the Model\n",
    "Run the training data through the training pipeline to train the model.\n",
    "\n",
    "Before each epoch, shuffle the training set.\n",
    "\n",
    "After each epoch, measure the loss and accuracy of the validation set.\n",
    "\n",
    "Save the model after training.\n",
    "\n",
    "You do not need to modify this section."
   ]
  },
  {
   "cell_type": "code",
   "execution_count": 101,
   "metadata": {
    "collapsed": false
   },
   "outputs": [
    {
     "name": "stdout",
     "output_type": "stream",
     "text": [
      "Training...\n",
      "\n",
      "EPOCH 1 ...\n",
      "Validation Accuracy = 0.426\n",
      "\n",
      "EPOCH 2 ...\n",
      "Validation Accuracy = 0.614\n",
      "\n",
      "EPOCH 3 ...\n",
      "Validation Accuracy = 0.727\n",
      "\n",
      "EPOCH 4 ...\n",
      "Validation Accuracy = 0.800\n",
      "\n",
      "EPOCH 5 ...\n",
      "Validation Accuracy = 0.815\n",
      "\n",
      "EPOCH 6 ...\n",
      "Validation Accuracy = 0.839\n",
      "\n",
      "EPOCH 7 ...\n",
      "Validation Accuracy = 0.839\n",
      "\n",
      "EPOCH 8 ...\n",
      "Validation Accuracy = 0.857\n",
      "\n",
      "EPOCH 9 ...\n",
      "Validation Accuracy = 0.864\n",
      "\n",
      "EPOCH 10 ...\n",
      "Validation Accuracy = 0.864\n",
      "\n",
      "EPOCH 11 ...\n",
      "Validation Accuracy = 0.854\n",
      "\n",
      "EPOCH 12 ...\n",
      "Validation Accuracy = 0.842\n",
      "\n",
      "EPOCH 13 ...\n",
      "Validation Accuracy = 0.888\n",
      "\n",
      "EPOCH 14 ...\n",
      "Validation Accuracy = 0.868\n",
      "\n",
      "EPOCH 15 ...\n",
      "Validation Accuracy = 0.891\n",
      "\n",
      "EPOCH 16 ...\n",
      "Validation Accuracy = 0.909\n",
      "\n",
      "EPOCH 17 ...\n",
      "Validation Accuracy = 0.893\n",
      "\n",
      "EPOCH 18 ...\n",
      "Validation Accuracy = 0.903\n",
      "\n",
      "EPOCH 19 ...\n",
      "Validation Accuracy = 0.893\n",
      "\n",
      "EPOCH 20 ...\n",
      "Validation Accuracy = 0.907\n",
      "\n",
      "Model saved\n"
     ]
    }
   ],
   "source": [
    "with tf.Session() as sess:\n",
    "    sess.run(tf.global_variables_initializer())\n",
    "    num_examples = len(X_train)\n",
    "    \n",
    "    print(\"Training...\")\n",
    "    print()\n",
    "    for i in range(EPOCHS):\n",
    "        X_train, y_train = shuffle(X_train, y_train)\n",
    "        for offset in range(0, num_examples, BATCH_SIZE):\n",
    "            end = offset + BATCH_SIZE\n",
    "            batch_x, batch_y = X_train[offset:end], y_train[offset:end]\n",
    "            sess.run(training_operation, feed_dict={x: batch_x, y: batch_y})\n",
    "            \n",
    "        validation_accuracy = evaluate(X_valid, y_valid)\n",
    "        print(\"EPOCH {} ...\".format(i+1))\n",
    "        print(\"Validation Accuracy = {:.3f}\".format(validation_accuracy))\n",
    "        print()\n",
    "        \n",
    "    saver.save(sess, './lenet')\n",
    "    print(\"Model saved\")"
   ]
  },
  {
   "cell_type": "markdown",
   "metadata": {},
   "source": [
    "## Evaluate the Model\n",
    "Once you are completely satisfied with your model, evaluate the performance of the model on the test set.\n",
    "\n",
    "Be sure to only do this once!\n",
    "\n",
    "If you were to measure the performance of your trained model on the test set, then improve your model, and then measure the performance of your model on the test set again, that would invalidate your test results. You wouldn't get a true measure of how well your model would perform against real data.\n",
    "\n",
    "You do not need to modify this section."
   ]
  },
  {
   "cell_type": "code",
   "execution_count": 102,
   "metadata": {
    "collapsed": false
   },
   "outputs": [
    {
     "name": "stdout",
     "output_type": "stream",
     "text": [
      "Test Accuracy = 0.906\n"
     ]
    }
   ],
   "source": [
    "with tf.Session() as sess:\n",
    "    saver.restore(sess, tf.train.latest_checkpoint('.'))\n",
    "\n",
    "    test_accuracy = evaluate(X_test, y_test)\n",
    "    print(\"Test Accuracy = {:.3f}\".format(test_accuracy))"
   ]
  }
 ],
 "metadata": {
  "anaconda-cloud": {},
  "kernelspec": {
   "display_name": "Python 3",
   "language": "python",
   "name": "python3"
  },
  "language_info": {
   "codemirror_mode": {
    "name": "ipython",
    "version": 3
   },
   "file_extension": ".py",
   "mimetype": "text/x-python",
   "name": "python",
   "nbconvert_exporter": "python",
   "pygments_lexer": "ipython3",
   "version": "3.4.3"
  },
  "widgets": {
   "state": {},
   "version": "1.1.2"
  }
 },
 "nbformat": 4,
 "nbformat_minor": 0
}
